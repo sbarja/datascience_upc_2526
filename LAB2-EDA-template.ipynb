{
 "cells": [
  {
   "cell_type": "markdown",
   "id": "17838108",
   "metadata": {},
   "source": [
    "# LAB-2: Exploratory Data Analysis (EDA) Lab Report – UPC Campus Nord data\n",
    "\n",
    "\n",
    "**Exploratory Data Analysis (EDA)** is the process of **analyzing and investigating datasets** to summarize their main characteristics through **statistical graphics** and **data visualization techniques**.  \n",
    "\n",
    "\n",
    "It is a critical first step in any data science project to:\n",
    "\n",
    "- Understand the structure and content of the data  \n",
    "- Identify patterns, trends, and relationships  \n",
    "- Spot anomalies or data quality issues  \n",
    "- Prepare the data for further modeling or hypothesis testing  \n",
    "\n",
    "\n",
    "<mark>**EDA is not just about numbers, it’s about telling the story behind the data.**</mark>\n",
    "\n",
    "\n",
    "---\n",
    "\n",
    "The following images provides a complete steps of EDA. Not all of them have to be conducted. \n",
    "\n",
    "<img src=\"Figures/eda.jpg\" alt=\"EDA steps\" width=\"800\">\n",
    "\n",
    "\n",
    "---\n",
    "\n",
    "\n",
    "### Objective of this Lab\n",
    "\n",
    "Conduct an Exploratory Data Analysis on the dataset   `Campus_DiagonalNordUPC_data.xlsx`, which contains information about the **consumption of electricity, water resources, etc** of the **UPC Diagonal Nord Campus**.\n",
    "\n",
    "\n",
    "The **goal** is to:\n",
    "- Extract insights from the data  \n",
    "- Identify patterns or anomalies  \n",
    "- Visualize findings in a clear, meaningful way  \n",
    "\n",
    "You are free to choose your **visualization style** and the **story you want to tell** through your analysis.  \n",
    "\n",
    "\n",
    "*Tip:* Use this Jupyter Notebook to document your process. Combine **text (Markdown)**, **code**, and **visualizations** to build a clear and insightful narrative.\n",
    "\n",
    "---\n",
    "\n",
    "\n",
    "### Suggested Steps\n",
    "\n",
    "1) Data Loading and Initial Exploration\n",
    "\n",
    "- Load the dataset and display its structure (columns, data types, missing values, etc.)\n",
    "    \n",
    "\n",
    "2. Data Cleaning\n",
    "- Handle missing, inconsistent, or incorrect data if necessary.\n",
    "- Create new relevant variables or filters when useful\n",
    "    \n",
    "\n",
    "3. Exploratory Analysis\n",
    "\n",
    "- Compute summary statistics and explore distributions. (week/weekends, monthly distributions, seasonal, etc).\n",
    "- Look for correlations or relationships between variables.\n",
    "- Detect and analyze anomalies or outliers and discuss possible causes\n",
    "\n",
    "4. Data Visualization\n",
    " - Use appropriate plots to represent your findings clearly and effectively:\n",
    " \n",
    "        - Line plots for time series\n",
    "        - Bar charts for comparisons\n",
    "        - Heatmaps for correlations\n",
    "        - Boxplots for distributions\n",
    "\n",
    "5. Insights and Conclusions\n",
    "- Summarize your key findings\n",
    "- Reflect on the main takeaways from your analysis\n",
    "\n"
   ]
  },
  {
   "cell_type": "code",
   "execution_count": 4,
   "id": "53ac9bfb",
   "metadata": {},
   "outputs": [],
   "source": [
    "import pandas as pd\n",
    "\n",
    "# read the dataset\n",
    "data = pd.read_excel('Data/Campus_DiagonalNordUPC_data.xlsx')\n",
    "\n"
   ]
  },
  {
   "cell_type": "code",
   "execution_count": null,
   "id": "b93a3146",
   "metadata": {},
   "outputs": [],
   "source": [
    "# write your code here \n",
    "\n",
    "\n",
    "\n"
   ]
  },
  {
   "cell_type": "code",
   "execution_count": null,
   "id": "5608c1ec",
   "metadata": {},
   "outputs": [],
   "source": [
    "# write your code here \n",
    "\n",
    "\n",
    "\n"
   ]
  },
  {
   "cell_type": "code",
   "execution_count": null,
   "id": "89847b49",
   "metadata": {},
   "outputs": [],
   "source": []
  },
  {
   "cell_type": "code",
   "execution_count": null,
   "id": "2e782ba3",
   "metadata": {},
   "outputs": [],
   "source": []
  },
  {
   "cell_type": "code",
   "execution_count": null,
   "id": "dbf2d19e",
   "metadata": {},
   "outputs": [],
   "source": []
  },
  {
   "cell_type": "code",
   "execution_count": null,
   "id": "dba2c2d3",
   "metadata": {},
   "outputs": [],
   "source": []
  },
  {
   "cell_type": "code",
   "execution_count": null,
   "id": "7d6e801b",
   "metadata": {},
   "outputs": [],
   "source": []
  },
  {
   "cell_type": "code",
   "execution_count": null,
   "id": "e0ecdcc5",
   "metadata": {},
   "outputs": [],
   "source": []
  },
  {
   "cell_type": "code",
   "execution_count": null,
   "id": "6ba81743",
   "metadata": {},
   "outputs": [],
   "source": []
  },
  {
   "cell_type": "code",
   "execution_count": null,
   "id": "9bbbcf95",
   "metadata": {},
   "outputs": [],
   "source": []
  },
  {
   "cell_type": "code",
   "execution_count": null,
   "id": "a56ba82c",
   "metadata": {},
   "outputs": [],
   "source": []
  },
  {
   "cell_type": "code",
   "execution_count": null,
   "id": "ce1c2777",
   "metadata": {},
   "outputs": [],
   "source": []
  },
  {
   "cell_type": "code",
   "execution_count": null,
   "id": "e55004fc",
   "metadata": {},
   "outputs": [],
   "source": []
  },
  {
   "cell_type": "code",
   "execution_count": null,
   "id": "15e32210",
   "metadata": {},
   "outputs": [],
   "source": []
  },
  {
   "cell_type": "code",
   "execution_count": null,
   "id": "822ea04c",
   "metadata": {},
   "outputs": [],
   "source": []
  }
 ],
 "metadata": {
  "kernelspec": {
   "display_name": "Python 3 (ipykernel)",
   "language": "python",
   "name": "python3"
  },
  "language_info": {
   "codemirror_mode": {
    "name": "ipython",
    "version": 3
   },
   "file_extension": ".py",
   "mimetype": "text/x-python",
   "name": "python",
   "nbconvert_exporter": "python",
   "pygments_lexer": "ipython3",
   "version": "3.11.5"
  }
 },
 "nbformat": 4,
 "nbformat_minor": 5
}
