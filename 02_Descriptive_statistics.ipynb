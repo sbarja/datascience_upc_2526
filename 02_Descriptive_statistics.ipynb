{
 "cells": [
  {
   "cell_type": "markdown",
   "metadata": {
    "slideshow": {
     "slide_type": "slide"
    }
   },
   "source": [
    "# S3. Introduction to Descriptive Statistics."
   ]
  },
  {
   "cell_type": "markdown",
   "metadata": {},
   "source": [
    "<img src=\"Figures/stats1.png\" alt=\"Drawing\" style=\"width: 600px;\"/>"
   ]
  },
  {
   "cell_type": "markdown",
   "metadata": {},
   "source": [
    "## CONTENTS \n",
    "* 1. Sample vs Population\n",
    "* 2. Summary and data cleaning\n",
    "* 3. Descriptive Statistics"
   ]
  },
  {
   "cell_type": "markdown",
   "metadata": {},
   "source": [
    "## 1. Sample vs. Population\n",
    "\n",
    "We will usually find ourselves in a situation where we wish to answer questions about a certain *population* but only have access to a *sample*.\n",
    "\n",
    "<img src=\"Figures/Poblacion1.svg\" alt=\"Drawing\" style=\"width: 450px;\"/>\n",
    "\n",
    "* The **population** refers to all individuals who are relevant to a particular question or study, whereas a **sample** will be just a subset of these. \n",
    "* For example, all the customers of a distribution company will be the population, whereas for a study we may only use a sample of them. Sometimes what for one question is a *population*, for another will be a sample (in our example all the customers of a distribution company are just a sample of the population of a country).\n",
    "\n",
    "<img src=\"Figures/Poblacion2.svg\" alt=\"Drawing\" style=\"width: 450px;\"/>\n",
    "\n",
    "Populations and samples are made up of several observations, individuals, elements, etc.\n",
    "\n",
    "<img src=\"Figures/Poblacion3.svg\" alt=\"Drawing\" style=\"width: 450px;\"/>\n",
    "\n",
    "Whenever possible, it will be *better to use the population to answer our questions, but sometimes this is not possible* (you do not have all the data, not all customers have a Smart meter, collecting all the data from the same source is difficult, etc.). In these cases we will use a sample. \n",
    "\n",
    "#### What is the problem with this? Let's see an example, with our London dataset"
   ]
  },
  {
   "cell_type": "code",
   "execution_count": null,
   "metadata": {},
   "outputs": [],
   "source": [
    "import pandas as pd # Pandas!\n",
    "import warnings\n",
    "warnings.simplefilter(action='ignore', category=FutureWarning)\n",
    "\n",
    "\n",
    "london = pd.read_csv('Data/block_13_diario.csv')\n",
    "london.head(10)"
   ]
  },
  {
   "cell_type": "code",
   "execution_count": null,
   "metadata": {},
   "outputs": [],
   "source": [
    "london.describe()"
   ]
  },
  {
   "cell_type": "markdown",
   "metadata": {},
   "source": [
    "Let's create two different samples"
   ]
  },
  {
   "cell_type": "code",
   "execution_count": null,
   "metadata": {},
   "outputs": [],
   "source": [
    "sample1 = london.iloc[1:50,4]\n",
    "sample2 = london.iloc[1345:1854,4]"
   ]
  },
  {
   "cell_type": "code",
   "execution_count": null,
   "metadata": {},
   "outputs": [],
   "source": [
    "sample1.describe()"
   ]
  },
  {
   "cell_type": "code",
   "execution_count": null,
   "metadata": {},
   "outputs": [],
   "source": [
    "sample2.describe()"
   ]
  },
  {
   "cell_type": "markdown",
   "metadata": {},
   "source": [
    "As can be seen, for each sample we obtain different metrics or statistics. This error is the *estimation error* or the *sampling error*. \n",
    "\n",
    "\n"
   ]
  },
  {
   "cell_type": "markdown",
   "metadata": {},
   "source": [
    "### **Population mean (µ)**\n",
    "\n",
    "\n",
    "$$\n",
    "\\mu = \\frac{1}{N} \\sum_{i=1}^{N} x_i\n",
    "$$\n",
    "\n",
    "* μ = population mean\n",
    "* $x_i$ = each individual observation in the population\n",
    "* 𝑁 = total number of observations in the population"
   ]
  },
  {
   "cell_type": "code",
   "execution_count": null,
   "metadata": {},
   "outputs": [],
   "source": [
    "mean_population = london['energy_max'].mean()\n",
    "print('Mean population:',mean_population)"
   ]
  },
  {
   "cell_type": "markdown",
   "metadata": {},
   "source": [
    "###  Samples mean (x̅)\n",
    "\n",
    "$$\n",
    "\\bar{x} = \\frac{1}{n} \\sum_{i=1}^{n} x_i\n",
    "$$\n",
    "\n",
    "* $x_i$ = each individual observation in the sample\n",
    "* 𝑛 = number of observations in the sample"
   ]
  },
  {
   "cell_type": "code",
   "execution_count": null,
   "metadata": {},
   "outputs": [],
   "source": [
    "mean_sample1 = sample1.mean()\n",
    "mean_sample2 = sample2.mean()\n",
    "\n",
    "print('Mean sample 1:', mean_sample1)\n",
    "print('Mean sample 2:', mean_sample2)"
   ]
  },
  {
   "cell_type": "markdown",
   "metadata": {},
   "source": [
    "**Samples error**"
   ]
  },
  {
   "cell_type": "code",
   "execution_count": null,
   "metadata": {},
   "outputs": [],
   "source": [
    "error1 = mean_population - mean_sample1\n",
    "error2 = mean_population - mean_sample2\n",
    "\n",
    "print('Sample 1 error:',error1)\n",
    "print('Sample 2 error:',error2)\n",
    "\n",
    "print('Sample 1 error %:',(error1/mean_population)*100)\n",
    "print('Sample 2 error %:',(error2/mean_population)*100)"
   ]
  },
  {
   "cell_type": "markdown",
   "metadata": {},
   "source": [
    "If we do it for several samples, with the same number of observations in a random way, automatically:\n",
    "\n",
    "\n",
    "`dataframe.sample()` method returns a random sample of items from an axis of object."
   ]
  },
  {
   "cell_type": "code",
   "execution_count": null,
   "metadata": {},
   "outputs": [],
   "source": [
    "import matplotlib.pyplot as plt\n",
    "\n",
    "num_observations_each_sample =100\n",
    "num_samples = 20\n",
    "\n",
    "list_mean=[]\n",
    "\n",
    "for sample in range(num_samples):\n",
    "    s = london['energy_max'].sample(num_observations_each_sample, random_state=sample)\n",
    "    list_mean.append(s.mean())\n",
    "    \n",
    "plt.scatter(range(1,num_samples+1),list_mean, label= 'Samples mean')\n",
    "plt.axhline(london['energy_max'].mean(), color='green', label = 'Population mean')\n",
    "\n",
    "# Set fixed y-axis limits (change values as per your requirement)\n",
    "plt.ylim(ymin=0.2, ymax=1.6)\n",
    "plt.xlabel('# Sample')\n",
    "plt.ylabel('Mean')\n",
    "plt.legend()\n",
    "plt.show()"
   ]
  },
  {
   "cell_type": "markdown",
   "metadata": {},
   "source": [
    "### How can we solve this? \n",
    "\n",
    "One way is, as mentioned, to try to get as close as possible to the entire population. Let's look at our example:"
   ]
  },
  {
   "cell_type": "code",
   "execution_count": null,
   "metadata": {},
   "outputs": [],
   "source": [
    "num_observations_each_sample = 50\n",
    "num_samples = 100\n",
    "lists_mean=[]\n",
    "\n",
    "for num_observations_each_sample in [50,250,500,1000]:\n",
    "    list_mean=[]\n",
    "    for sample in range(num_samples):\n",
    "        s = london['energy_max'].sample(num_observations_each_sample, random_state = sample)\n",
    "        list_mean.append(s.mean())\n",
    "    lists_mean.append(list_mean)\n",
    "    \n",
    "plt.figure(figsize=(15,8))\n",
    "\n",
    "plt.subplot(2,2,1)\n",
    "plt.scatter(range(1,num_samples+1),lists_mean[0])\n",
    "plt.axhline(london['energy_max'].mean(), color='green')\n",
    "plt.ylim(0.6, 1.1)\n",
    "plt.ylabel('Mean')\n",
    "plt.title('50 samples')\n",
    "\n",
    "plt.subplot(2,2,2)\n",
    "plt.scatter(range(1,num_samples+1),lists_mean[1])\n",
    "plt.axhline(london['energy_max'].mean(), color='green')\n",
    "plt.ylim(0.6, 1.1)\n",
    "plt.ylabel('Mean')\n",
    "plt.title('250 samples')\n",
    "\n",
    "plt.subplot(2,2,3)\n",
    "plt.scatter(range(1,num_samples+1),lists_mean[2])\n",
    "plt.axhline(london['energy_max'].mean(), color='green')\n",
    "plt.ylim(0.6, 1.1)\n",
    "plt.ylabel('Mean')\n",
    "plt.title('500 samples')\n",
    "\n",
    "plt.subplot(2,2,4)\n",
    "plt.scatter(range(1,num_samples+1),lists_mean[3])\n",
    "plt.axhline(london['energy_max'].mean(), color='green')\n",
    "plt.ylim(0.6, 1.1)\n",
    "plt.ylabel('Mean')\n",
    "plt.title('1000 samples')\n",
    "\n",
    "\n",
    "# plt.subplot(2,2,4)\n",
    "# plt.scatter(range(1,101),lists_mean[4], alpha=0.4)\n",
    "# plt.axhline(london['energy_max'].mean(), color='green')\n",
    "# plt.ylim(0.6, 1.1)\n",
    "# plt.ylabel('Mean')\n",
    "# plt.title('1800 samples')\n",
    "\n",
    "plt.show()"
   ]
  },
  {
   "cell_type": "markdown",
   "metadata": {},
   "source": [
    "We must also ensure that the sample is representative of the different possible categories in our dataset. For that you can use **stratified sampling**.\n",
    "\n",
    "<img src=\"Figures/stratified_sampling.jpg\" alt=\"Drawing\" style=\"width: 450px;\"/>"
   ]
  },
  {
   "cell_type": "markdown",
   "metadata": {},
   "source": [
    "## 2. Data summary and data cleaning\n",
    "\n",
    "Pandas offers us several options to obtain a summary of the data as the *describe* method seen above. In addition, we can use other methods such as:\n",
    "\n",
    "<img src=\"Figures/pandas_summary.png\" alt=\"Drawing\" style=\"width: 450px;\"/>\n",
    "\n",
    "Other interesting options to obtain frequency distributions of the data in a column are the methods *value_counts* and *nunique*."
   ]
  },
  {
   "cell_type": "code",
   "execution_count": null,
   "metadata": {},
   "outputs": [],
   "source": [
    "### Try some of these functions\n",
    "\n",
    "print(\"Total energy max sum\", london['energy_max'].sum())\n",
    "print(\"Maximum energy consumed\", london['energy_max'].max())"
   ]
  },
  {
   "cell_type": "markdown",
   "metadata": {},
   "source": [
    "### Standard deviation"
   ]
  },
  {
   "cell_type": "markdown",
   "metadata": {},
   "source": [
    "The standard deviation (std) measures how spread out the energy_max values are from their mean for that LCLid. **The unit of the standard deviation is the same as the unit of the original data**.\n",
    "\n",
    "* A high std → the household’s maximum energy use fluctuates a lot over time.\n",
    "* A low std → their energy use is more consistent.\n",
    "\n",
    "\n",
    "$$\n",
    "std = \\sqrt{\\frac{\\sum_{i=1}^{n} (x_i - \\bar{x})^2}{n - 1}}\n",
    "$$"
   ]
  },
  {
   "cell_type": "markdown",
   "metadata": {},
   "source": [
    "<div style=\"background-color:#ccffcc; padding:10px; border-radius:5px;\">\n",
    "\n",
    "### <span style=\"color:blue\">Exercise 1</span>\n",
    "\n",
    "Calculate standard deviation for MAC000113\n",
    "    </div>"
   ]
  },
  {
   "cell_type": "code",
   "execution_count": null,
   "metadata": {},
   "outputs": [],
   "source": [
    "# write your code here\n",
    "london.loc[london['LCLid']=='MAC000113']['energy_max'].std()"
   ]
  },
  {
   "cell_type": "markdown",
   "metadata": {},
   "source": []
  },
  {
   "cell_type": "markdown",
   "metadata": {},
   "source": [
    "### Data cleaning: treat the missing data"
   ]
  },
  {
   "cell_type": "markdown",
   "metadata": {},
   "source": [
    "There are several options for dealing with empty values, but pandas offers us some quick and interesting options to go fast\n",
    "\n",
    "<img src=\"Figures/missing.png\" alt=\"Drawing\" style=\"width: 450px;\"/>\n",
    "\n",
    "One tool that goes well for summarizing is the *pandas-profiling* library which summarizes the data in a *dataframe* and shows us interesting summarized and grouped results.\n"
   ]
  },
  {
   "cell_type": "markdown",
   "metadata": {},
   "source": [
    "<div style=\"background-color:#ccffcc; padding:10px; border-radius:5px;\">\n",
    "\n",
    "### <span style=\"color:blue\">Exercise 2</span>\n",
    "\n",
    "How many missing data the londond dataset have?\n",
    "    </div>"
   ]
  },
  {
   "cell_type": "code",
   "execution_count": null,
   "metadata": {},
   "outputs": [],
   "source": [
    "# write your code here\n",
    "\n",
    "\n",
    "london.isna().sum()\n",
    "\n"
   ]
  },
  {
   "cell_type": "markdown",
   "metadata": {},
   "source": [
    "<div style=\"background-color:#ccffcc; padding:10px; border-radius:5px;\">\n",
    "\n",
    "### <span style=\"color:blue\">Exercise 3</span>\n",
    "Which method would you use? dropna() or .fillna()\n",
    "    </div>"
   ]
  },
  {
   "cell_type": "code",
   "execution_count": null,
   "metadata": {},
   "outputs": [],
   "source": [
    "# write your code here\n",
    "\n",
    "london.dropna(inplace=True)\n",
    "\n",
    "# inplace=True --> it is the same as doing this \n",
    "# london = london.dropna()"
   ]
  },
  {
   "cell_type": "code",
   "execution_count": null,
   "metadata": {},
   "outputs": [],
   "source": [
    "# how many missing data do we have now?\n",
    "\n",
    "london.isna().sum()\n"
   ]
  },
  {
   "cell_type": "markdown",
   "metadata": {},
   "source": [
    "# 3. Descriptive Statistics and visualization"
   ]
  },
  {
   "cell_type": "markdown",
   "metadata": {},
   "source": [
    "## 3.1 Frequency Distribution\n",
    "\n",
    "A data set is made up of a distribution of values. This is valuable information to understand the dataset we are working with.\n",
    "\n",
    "\n",
    "Several plot tools help visualize the distribution of our values. We are going to focus in the following two:\n",
    "\n",
    "* Histogram\n",
    "* Density Plots"
   ]
  },
  {
   "cell_type": "code",
   "execution_count": null,
   "metadata": {},
   "outputs": [],
   "source": [
    "london.head()"
   ]
  },
  {
   "cell_type": "markdown",
   "metadata": {},
   "source": [
    "## 3.2 Histogram\n",
    "\n",
    "A histogram is a type of graph that shows how data are distributed — that is, how often different ranges of values occur in a dataset.\n",
    "It is especially useful for quantitative (numerical) data.\n",
    "\n",
    "* The x-axis (horizontal axis) represents intervals or bins of values (ranges of numbers). These bins can be modified.\n",
    "* The y-axis (vertical axis) shows the frequency — how many data points fall into each bin.\n",
    "* The bars are touching each other, because  data are continuous (unlike bar charts, where bars are separate).\n",
    "\n",
    "\n",
    "**What a histogram shows you?**\n",
    "\n",
    "* Shape of the data distribution:\n",
    "    * Symmetrical (normal)\n",
    "    * Skewed left or right\n",
    "    * Bimodal (two peaks)\n",
    "\n",
    "* Spread (how wide the data range is)\n",
    "* Outliers (values that occur far from the rest)"
   ]
  },
  {
   "cell_type": "code",
   "execution_count": null,
   "metadata": {},
   "outputs": [],
   "source": [
    "### Let's make a histogram\n",
    "import seaborn as sns\n",
    "from matplotlib import colors as mcolors\n",
    "\n",
    "colors = dict(mcolors.BASE_COLORS, **mcolors.CSS4_COLORS)\n",
    "colors_names = [name for name, color in colors.items()]\n",
    "\n",
    "# print(colors_names)\n",
    "\n",
    "plt.figure(figsize=(12,8))\n",
    "sns.histplot(data=london, x = \"energy_mean\", bins=50, edgecolor=\"white\", element=\"bars\")\n",
    "\n",
    "# Mean & median lines\n",
    "mean_val = np.mean(x)\n",
    "median_val = np.median(x)\n",
    "mode_vale = london[\"energy_mean\"].mode().iloc[0]\n",
    "\n",
    "plt.axvline(mean_val, linestyle=\"--\", linewidth=1.5, label=f\"Mean = {mean_val:.2f}\", color='orange')\n",
    "plt.axvline(median_val, linestyle=\"--\", linewidth=1.5, label=f\"Median = {median_val:.2f}\", color='green')\n",
    "plt.axvline(mode_vale, linestyle=\"--\", linewidth=1.5, label=f\"Mode = {mode_vale:.2f}\", color='pink')\n",
    "plt.legend()\n",
    "plt.tight_layout()"
   ]
  },
  {
   "cell_type": "markdown",
   "metadata": {},
   "source": [
    "#### How many different end-users there are in the dataset? "
   ]
  },
  {
   "cell_type": "code",
   "execution_count": null,
   "metadata": {},
   "outputs": [],
   "source": [
    "SMs = london['LCLid'].unique()\n",
    "SMs"
   ]
  },
  {
   "cell_type": "code",
   "execution_count": null,
   "metadata": {},
   "outputs": [],
   "source": [
    "import matplotlib.pyplot as plt\n",
    "import seaborn as sns\n",
    "\n",
    "number_smartmeters = 4\n",
    "\n",
    "plt.figure(figsize=(12, 8))\n",
    "\n",
    "for i, SM in enumerate(SMs[:number_smartmeters]):\n",
    "    \n",
    "    subset = london[london['LCLid']== SM]\n",
    "    \n",
    "    sns.histplot(\n",
    "        data = subset, \n",
    "        x = \"energy_max\", \n",
    "        kde=True, label= SM, \n",
    "        edgecolor=\"white\", \n",
    "        color=colors_names[i], \n",
    "        bins = 50, \n",
    "        alpha=0.2)\n",
    "    \n",
    "plt.legend( loc='best', bbox_to_anchor=((1,1)))\n",
    "plt.grid(axis='y', alpha=0.3)\n",
    "plt.tight_layout()"
   ]
  },
  {
   "cell_type": "markdown",
   "metadata": {},
   "source": [
    "### 3.3 Density plot\n",
    "\n",
    "A density plot (also called a Kernel Density Estimate, or KDE) is a smoothed version of a histogram.\n",
    "It estimates the probability density function  of the data: in other words, it shows how likely different values are to occur.\n",
    "\n",
    "* The curve is continuous (no bins)\n",
    "* The area under the curve = 1 (it represents probabilities, not counts).\n"
   ]
  },
  {
   "cell_type": "code",
   "execution_count": null,
   "metadata": {},
   "outputs": [],
   "source": [
    "import seaborn as sns\n",
    "import matplotlib.pyplot as plt\n",
    "\n",
    "# Filter and clean data\n",
    "subset = london.loc[london['LCLid'] == 'MAC000113', 'energy_max']\n",
    "\n",
    "# Create the distribution plot\n",
    "sns.kdeplot(subset, fill=True, color='steelblue', linewidth=2)\n",
    "plt.grid(True, which='major', axis='both', linestyle='--', alpha=0.5)\n"
   ]
  },
  {
   "cell_type": "markdown",
   "metadata": {},
   "source": [
    "#### Density plot + histogram"
   ]
  },
  {
   "cell_type": "markdown",
   "metadata": {},
   "source": [
    "https://seaborn.pydata.org/generated/seaborn.displot.html"
   ]
  },
  {
   "cell_type": "code",
   "execution_count": null,
   "metadata": {},
   "outputs": [],
   "source": [
    "import seaborn as sns\n",
    "import matplotlib.pyplot as plt\n",
    "\n",
    "id = 'MAC000113'\n",
    "\n",
    "# Filter and clean data\n",
    "subset = london.loc[london['LCLid'] == id, 'energy_max'].dropna()\n",
    "\n",
    "# Create the distribution plot\n",
    "sns.displot(\n",
    "    subset,\n",
    "    kde=True,            # Adds smooth density curve\n",
    "    bins=50,             # Controls number of histogram bars\n",
    "    color='steelblue',   # Professional color\n",
    "    height=5,            # Figure height (in inches)\n",
    "    aspect=1.4           # Width-to-height ratio\n",
    ")\n",
    "\n",
    "# Add title and labels\n",
    "plt.xlabel(\"Energy Max\", fontsize=12)\n",
    "plt.ylabel(\"Frequency / Density\", fontsize=12)\n",
    "\n",
    "\n",
    "plt.grid(alpha=0.3)\n",
    "plt.tight_layout()\n",
    "plt.show()"
   ]
  },
  {
   "cell_type": "markdown",
   "metadata": {},
   "source": [
    "### Calculate the probability"
   ]
  },
  {
   "cell_type": "code",
   "execution_count": null,
   "metadata": {},
   "outputs": [],
   "source": [
    "from scipy import integrate\n",
    "from scipy.stats import gaussian_kde\n",
    "\n",
    "\n",
    "# Define the range for the probability calculation\n",
    "a, b = 1, 2\n",
    "\n",
    "\n",
    "# Filter and clean data\n",
    "subset = london.loc[london['LCLid'] == id, 'energy_max'].dropna()\n",
    "\n",
    "# Create the distribution plot\n",
    "sns.displot(\n",
    "    subset,\n",
    "    kde=True,            # Adds smooth density curve\n",
    "    bins=50,             # Controls number of histogram bars\n",
    "    color='steelblue',   # Professional color\n",
    "    height=5,            # Figure height (in inches)\n",
    "    aspect=1.4           # Width-to-height ratio\n",
    ")\n",
    "\n",
    "# Add vertical lines for 'a' and 'b'\n",
    "plt.axvline(a, color='orange', linestyle='--', linewidth=2, label=f'a = {a}')\n",
    "plt.axvline(b, color='green', linestyle='--', linewidth=2, label=f'b = {b}')\n",
    "\n",
    "# Add title and labels\n",
    "plt.xlabel(\"Energy Max\", fontsize=12)\n",
    "plt.ylabel(\"Frequency / Density\", fontsize=12)\n",
    "\n",
    "# Add grid and legend\n",
    "plt.grid(alpha=0.3)\n",
    "plt.legend()\n",
    "plt.tight_layout()\n",
    "\n"
   ]
  },
  {
   "cell_type": "code",
   "execution_count": null,
   "metadata": {},
   "outputs": [],
   "source": [
    "# Create a KDE object using the data\n",
    "kde = gaussian_kde(london.loc[london['LCLid']=='MAC000113']['energy_max'])\n",
    "\n",
    "# Perform numerical integration of the KDE between a and b\n",
    "probability, error = integrate.quad(kde, a, b)\n",
    "\n",
    "# Output the probability\n",
    "print(f\"The probability of a value between {a} and {b} is approximately {probability:.4f}\")"
   ]
  },
  {
   "cell_type": "markdown",
   "metadata": {},
   "source": [
    "<div style=\"background-color:#ccffcc; padding:10px; border-radius:5px;\">\n",
    "\n",
    "### <span style=\"color:blue\">Exercise 4</span>\n",
    "Plot in the same figure the density plot of the Energy_max for the last 5 end-users\n",
    "    </div>"
   ]
  },
  {
   "cell_type": "code",
   "execution_count": null,
   "metadata": {
    "scrolled": false
   },
   "outputs": [],
   "source": [
    "plt.figure(figsize=(12, 8))\n",
    "\n",
    "for i, SM in enumerate(SMs[-5:]):\n",
    "    sns.kdeplot(london[london['LCLid'] == SM]['energy_max'], label=SM, color=colors_names[i], alpha=0.4)\n",
    "\n",
    "plt.legend(loc='best', bbox_to_anchor=(1, 1))\n",
    "plt.title('Density Plot for Last 5 Samples')\n",
    "plt.xlabel('Energy Max')\n",
    "plt.ylabel('Density')\n",
    "plt.show()"
   ]
  },
  {
   "cell_type": "markdown",
   "metadata": {},
   "source": [
    "## 3.2 Measures of central tendency: Mean, median and mode\n",
    "\n",
    "Once we have a summary of the data used, some parameters that can be very useful to know how certain characteristics of our *dataset* are distributed are:\n",
    "* Mean\n",
    "* Median\n",
    "* Mode"
   ]
  },
  {
   "cell_type": "markdown",
   "metadata": {},
   "source": [
    "#### Mean\n",
    "\n",
    "We can think of the mean as the center of gravity of the data of a distribution. Let's look at an example and discuss what information can be obtained and how it can help us or, conversely, misinform us if we are not careful."
   ]
  },
  {
   "cell_type": "code",
   "execution_count": null,
   "metadata": {},
   "outputs": [],
   "source": [
    "import random\n",
    "import numpy as np\n",
    "\n",
    "population = [0,2,3,3,3,4,13]\n",
    "sample = random.choices(population, k=3)  #Randomly select 4 values from the population.\n",
    "\n",
    "mean_pop = np.mean(population)\n",
    "mean_samp = np.mean(sample)\n",
    "\n",
    "print('Mean Population:', mean_pop)\n",
    "print('Media Sample:', mean_samp)\n",
    "print(sample)"
   ]
  },
  {
   "cell_type": "markdown",
   "metadata": {},
   "source": [
    "Pandas provide accesibility to common calculations, such as:"
   ]
  },
  {
   "cell_type": "code",
   "execution_count": null,
   "metadata": {},
   "outputs": [],
   "source": [
    "london['energy_max'].mean()"
   ]
  },
  {
   "cell_type": "markdown",
   "metadata": {},
   "source": [
    "#### Mean and Median\n",
    "\n",
    "*netherlands* Dataset. \n",
    "\n",
    "Source: https://www.kaggle.com/datasets/lucabasa/dutch-energy/data\n"
   ]
  },
  {
   "cell_type": "code",
   "execution_count": null,
   "metadata": {},
   "outputs": [],
   "source": [
    "import pandas as pd\n",
    "netherlands = pd.read_csv('data/Electricity_Netherlands/coteq_electricity_2019.csv')\n",
    "netherlands.dropna()\n",
    "netherlands.head(5)"
   ]
  },
  {
   "cell_type": "markdown",
   "metadata": {},
   "source": [
    "If you want to obtain the average consumption of the whole dataset, you could calculate it as:"
   ]
  },
  {
   "cell_type": "code",
   "execution_count": null,
   "metadata": {},
   "outputs": [],
   "source": [
    "netherlands['annual_consume'].mean()"
   ]
  },
  {
   "cell_type": "code",
   "execution_count": null,
   "metadata": {},
   "outputs": [],
   "source": [
    "netherlands['annual_consume'].median()"
   ]
  },
  {
   "cell_type": "code",
   "execution_count": null,
   "metadata": {},
   "outputs": [],
   "source": [
    "# weighted average\n",
    "\n",
    "import numpy as np\n",
    "\n",
    "np.average(netherlands['annual_consume'], weights=netherlands['num_connections'])\n",
    "\n",
    "\n",
    "\n",
    "\n"
   ]
  },
  {
   "cell_type": "code",
   "execution_count": null,
   "metadata": {},
   "outputs": [],
   "source": [
    "# make it more exagerated\n",
    "netherlands.loc[0, 'annual_consume'] = 40000\n",
    "netherlands.loc[0, 'num_connections'] = 200\n",
    "netherlands"
   ]
  },
  {
   "cell_type": "code",
   "execution_count": null,
   "metadata": {},
   "outputs": [],
   "source": [
    "np.average(netherlands['annual_consume'], weights=netherlands['num_connections'])\n"
   ]
  },
  {
   "cell_type": "markdown",
   "metadata": {},
   "source": [
    "#### But if we take a good look at the *dataset* we can see that this average is not fair. Why?"
   ]
  },
  {
   "cell_type": "code",
   "execution_count": null,
   "metadata": {},
   "outputs": [],
   "source": [
    "\n",
    "# let's check for some max values and minimum\n",
    "netherlands.describe()\n",
    "\n",
    "# let's check histogram\n",
    "plt.figure(figsize=(12,8))\n",
    "sns.histplot(data = netherlands[\"annual_consume\"], color=colors_names[0], bins = 100, alpha=0.5, label='Week')\n",
    "plt.axvline(x=netherlands[\"annual_consume\"].mean(), color='red', linestyle='--', label='Threshold')\n",
    "plt.axvline(x=netherlands[\"annual_consume\"].median(), color='yellow', linestyle='--', label='Threshold')"
   ]
  },
  {
   "cell_type": "code",
   "execution_count": null,
   "metadata": {},
   "outputs": [],
   "source": [
    "netherlands[\"annual_consume\"].skew()"
   ]
  },
  {
   "cell_type": "markdown",
   "metadata": {},
   "source": [
    "We have seen how there are times when computing the average, even if it can be done, would not be correct. At other times, what will happen is that we cannot compute the mean at all. For example"
   ]
  },
  {
   "cell_type": "markdown",
   "metadata": {},
   "source": [
    "In this case, the **median** may be a good alternative measure.\n",
    "\n",
    "Another advantage of the median is that it does not consider equally all elements of the distribution, which makes it more resistant to changes in the distribution.\n",
    "\n",
    "#### Mode\n",
    "\n",
    "We have seen that sometimes the mean will not give us the information we are looking for, or simply cannot be calculated and we will use the median. On other occasions, however, the mode can also be useful to us. For example:"
   ]
  },
  {
   "cell_type": "code",
   "execution_count": null,
   "metadata": {},
   "outputs": [],
   "source": [
    "netherlands['city'].head(5)"
   ]
  },
  {
   "cell_type": "code",
   "execution_count": null,
   "metadata": {},
   "outputs": [],
   "source": [
    "netherlands['city'].value_counts()"
   ]
  },
  {
   "cell_type": "markdown",
   "metadata": {},
   "source": [
    "## 3.3 Variability\n",
    "\n",
    "Let's look at two distributions:"
   ]
  },
  {
   "cell_type": "code",
   "execution_count": null,
   "metadata": {},
   "outputs": [],
   "source": [
    "import numpy as np\n",
    "\n",
    "A=[4,4,4,4]\n",
    "B=[0,8,0,8]\n",
    "\n",
    "print('The mean of A is:',np.mean(A))\n",
    "print('The mean of B is:',np.mean(B))"
   ]
  },
  {
   "cell_type": "code",
   "execution_count": null,
   "metadata": {},
   "outputs": [],
   "source": [
    "plt.hist(A, label=\"A\")\n",
    "plt.hist(B, label= \"B\")\n",
    "plt.legend()"
   ]
  },
  {
   "cell_type": "markdown",
   "metadata": {},
   "source": [
    "Indeed, two very different distributions can have the same mean.\n",
    "\n",
    "What other parameter can help us to distinguish the two distributions? For example, the range:"
   ]
  },
  {
   "cell_type": "code",
   "execution_count": null,
   "metadata": {},
   "outputs": [],
   "source": [
    "range_A=max(A)-min(A)\n",
    "range_B=max(B)-min(B)\n",
    "\n",
    "print('The range of A is:',range_A)\n",
    "print('The range of B is:',range_B)"
   ]
  },
  {
   "cell_type": "markdown",
   "metadata": {},
   "source": [
    "But the range only considers two values, and it is not a good solution:"
   ]
  },
  {
   "cell_type": "code",
   "execution_count": null,
   "metadata": {},
   "outputs": [],
   "source": [
    "C=[1,1,1,1,1,1,1,1,1,1,1,1,1,1,1,1,21]\n",
    "\n",
    "range_C=max(C)-min(C)\n",
    "print('The mean of C is:',np.mean(C))\n",
    "print('The range of C is:',range_C)"
   ]
  },
  {
   "cell_type": "markdown",
   "metadata": {},
   "source": [
    "We see that we have a distribution with very little variability, but with a very high range. This is because it only considers two values of the distribution and not the whole distribution."
   ]
  },
  {
   "cell_type": "markdown",
   "metadata": {},
   "source": [
    "If we consider all values we can calculate:\n",
    "\n",
    "<img src=\"Figures/variabilities.svg\" alt=\"Drawing\" style=\"width: 450px;\"/>"
   ]
  },
  {
   "cell_type": "markdown",
   "metadata": {},
   "source": [
    "\n",
    "\n"
   ]
  },
  {
   "cell_type": "markdown",
   "metadata": {},
   "source": [
    "To avoid this, we will use:\n",
    "\n",
    "$$ Variance = \\frac{1}{n} \\sum_i (x_i - \\mu)^2 $$"
   ]
  },
  {
   "cell_type": "markdown",
   "metadata": {},
   "source": [
    "<div style=\"background-color:#ccffcc; padding:10px; border-radius:5px;\">\n",
    "\n",
    "### <span style=\"color:blue\">Exercise 5</span>\n",
    "Use the variance formula for the top three distributions. What values are obtained?\n",
    "    </div>"
   ]
  },
  {
   "cell_type": "code",
   "execution_count": null,
   "metadata": {},
   "outputs": [],
   "source": [
    "# We write the mean for all the distributions\n",
    "dist1 = [1, 2, 8, 9]\n",
    "dist2 = [3, 4, 6, 7]\n",
    "dist3 = [5, 5, 5, 5]"
   ]
  },
  {
   "cell_type": "code",
   "execution_count": null,
   "metadata": {},
   "outputs": [],
   "source": [
    "def var_func(dist):\n",
    "    return sum([(x-np.mean(dist))**2 for x in dist])/len(dist)\n",
    "\n",
    "\n",
    "\n",
    "# alternative\n",
    "\n",
    "def var_fun2(dist):\n",
    "    x = 0\n",
    "    n = len(dist)\n",
    "    mean = np.mean(dist)\n",
    "\n",
    "    for i in range(len(dist)):\n",
    "        suma = (dist[i]-mean)**2\n",
    "        x = x + suma\n",
    "    \n",
    "    return x/n"
   ]
  },
  {
   "cell_type": "code",
   "execution_count": null,
   "metadata": {},
   "outputs": [],
   "source": [
    "print('Variance Dist 1: ', var_func(dist1))\n",
    "print('Variance Dist 2: ', var_func(dist2))\n",
    "print('Variance Dist 3: ', var_func(dist3))"
   ]
  },
  {
   "cell_type": "markdown",
   "metadata": {},
   "source": [
    "!!!! The problem with the variance is that it does not give a value that does not make any sense to us.\n",
    "\n",
    "A shorter way: the variance method is `np.var()`"
   ]
  },
  {
   "cell_type": "code",
   "execution_count": null,
   "metadata": {},
   "outputs": [],
   "source": [
    "print('Variance Dist 1: ', np.var(dist1))\n",
    "print('Variance Dist 2: ', np.var(dist2))\n",
    "print('Variance Dist 3: ', np.var(dist3))"
   ]
  },
  {
   "cell_type": "markdown",
   "metadata": {},
   "source": [
    "### Let's see another example"
   ]
  },
  {
   "cell_type": "code",
   "execution_count": null,
   "metadata": {},
   "outputs": [],
   "source": [
    "week_consum =[0, 7, 8, 5, 7]\n",
    "\n",
    "print('The variance:', np.var(week_consum))"
   ]
  },
  {
   "cell_type": "markdown",
   "metadata": {},
   "source": [
    "For this, we use  **standard deviation**\n",
    "\n",
    "Variance $$ \\sigma^2 = \\frac{1}{n} \\sum_i (x_i - \\mu)^2 $$\n",
    "\n",
    "Standard Deviation $$ \\sigma = \\sqrt (\\frac{1}{n} \\sum_i (x_i - \\mu)^2) $$\n"
   ]
  },
  {
   "cell_type": "code",
   "execution_count": null,
   "metadata": {},
   "outputs": [],
   "source": [
    "week_consum =[0, 7, 8, 5, 7]\n",
    "\n",
    "print('The standard deviation is:', np.std(week_consum))\n",
    "print('The mean is:', np.mean(week_consum))"
   ]
  },
  {
   "cell_type": "markdown",
   "metadata": {},
   "source": [
    "## Standard deviation in normal distributions and boxplots\n",
    "\n",
    "<img src=\"Figures/boxplot_normal_dist.png\" alt=\"Drawing\" style=\"width: 600px;\"/>"
   ]
  },
  {
   "cell_type": "markdown",
   "metadata": {},
   "source": [
    "### Let's calculate the distribution and standard deviation for a sample: end user MAC000113, Energy Max"
   ]
  },
  {
   "cell_type": "code",
   "execution_count": null,
   "metadata": {},
   "outputs": [],
   "source": [
    "MAC000113_energy_max = london.loc[london['LCLid']=='MAC000113']['energy_max']"
   ]
  },
  {
   "cell_type": "code",
   "execution_count": null,
   "metadata": {},
   "outputs": [],
   "source": [
    "import matplotlib.pyplot as plt\n",
    "\n",
    "mean = MAC000113_energy_max.mean()\n",
    "st_dev = MAC000113_energy_max.std()\n",
    "MAC000113_energy_max.plot.hist(bins=20)\n",
    "plt.axvline(mean, color = 'black', label = 'Mean')\n",
    "plt.axvline(mean - st_dev, color = 'Red', label = '-1σ')\n",
    "plt.axvline(mean + st_dev, color = 'Violet', label = '+1σ')\n",
    "plt.axvline(mean - 2*st_dev, color = 'Red', label = '-2σ')\n",
    "plt.axvline(mean + 2*st_dev, color = 'Violet', label = '+2σ')\n",
    "plt.axvline(mean - 3*st_dev, color = 'Red', label = '-3σ')\n",
    "plt.axvline(mean + 3*st_dev, color = 'Violet', label = '+3σ')\n",
    "plt.xlabel('Energy')\n",
    "plt.legend()"
   ]
  },
  {
   "cell_type": "markdown",
   "metadata": {},
   "source": [
    "### Boxplots \n",
    "\n",
    "A boxplot visualizes the median, spread, and outliers of a dataset, helping you quickly understand its distribution, variability, and skewness.\n",
    "\n",
    "\n",
    "What the plot tells you?\n",
    "* Center: The median line shows where the middle of the data lies.\n",
    "* Spread: The box and whiskers show how spread out the data are.\n",
    "* Skewness: If the median isn’t centered in the box, the data are skewed.\n",
    "* Median near the top → Left-skewed (negative skew)\n",
    "* Median near the bottom → Right-skewed (positive skew)\n",
    "* Outliers: Individual points outside the whiskers."
   ]
  },
  {
   "cell_type": "markdown",
   "metadata": {},
   "source": [
    "<div style=\"background-color:#ccffcc; padding:10px; border-radius:5px;\">\n",
    "\n",
    "### <span style=\"color:blue\">Exercise 6</span>\n",
    "Show the boxplot\n",
    "    </div>"
   ]
  },
  {
   "cell_type": "code",
   "execution_count": null,
   "metadata": {},
   "outputs": [],
   "source": [
    "# Write your code here\n",
    "\n",
    "plt.figure(figsize=(10, 8))\n",
    "sns.boxplot(y=MAC000113_energy_max)\n",
    "plt.axhline(mean, color='black', linestyle='--', label='Mean')"
   ]
  },
  {
   "cell_type": "markdown",
   "metadata": {},
   "source": [
    "### Let's check another example and distribution: energy max from population"
   ]
  },
  {
   "cell_type": "code",
   "execution_count": null,
   "metadata": {},
   "outputs": [],
   "source": [
    "import matplotlib.pyplot as plt\n",
    "\n",
    "mean = london['energy_max'].mean()\n",
    "st_dev = london['energy_max'].std()\n",
    "london['energy_max'].plot.hist(bins=20)\n",
    "plt.axvline(mean, color = 'Black', label = 'Mean')\n",
    "plt.axvline(mean - st_dev, color = 'Red', label = '-1σ')\n",
    "plt.axvline(mean + st_dev, color = 'Violet', label = '+1σ')\n",
    "plt.axvline(mean - 2*st_dev, color = 'Red', label = '-2σ')\n",
    "plt.axvline(mean + 2*st_dev, color = 'Violet', label = '+2σ')\n",
    "plt.axvline(mean - 3*st_dev, color = 'Red', label = '-3σ')\n",
    "plt.axvline(mean + 3*st_dev, color = 'Violet', label = '+3σ')\n",
    "plt.xlabel('Energy')\n",
    "plt.legend()"
   ]
  },
  {
   "cell_type": "markdown",
   "metadata": {},
   "source": [
    "<div style=\"background-color:#ccffcc; padding:10px; border-radius:5px;\">\n",
    "\n",
    "### <span style=\"color:blue\">Exercise 7</span>\n",
    "Show the boxplot\n",
    "    </div>"
   ]
  },
  {
   "cell_type": "code",
   "execution_count": null,
   "metadata": {},
   "outputs": [],
   "source": [
    "# write your code here\n",
    "\n",
    "\n",
    "plt.figure(figsize=(12, 8))\n",
    "sns.boxplot(y=london['energy_max'])\n",
    "plt.axhline(mean, color='black', linestyle='--', label='Mean')"
   ]
  },
  {
   "cell_type": "markdown",
   "metadata": {},
   "source": [
    "<div style=\"background-color:#ccffcc; padding:10px; border-radius:5px;\">\n",
    "\n",
    "### <span style=\"color:blue\">Exercise 8</span>\n",
    "    \n",
    "Show the boxplots of all endusers (LCLid) for the Energy Max. \n",
    "    \n",
    " + Which end-user has more variability?\n",
    " + Show the distribution of the user with higher variability according to the boxplot\n",
    "    </div>"
   ]
  },
  {
   "cell_type": "code",
   "execution_count": null,
   "metadata": {},
   "outputs": [],
   "source": [
    "# Your code here\n",
    "\n",
    "import matplotlib.pyplot as plt\n",
    "\n",
    "plt.figure(figsize=(12, 8))\n",
    "sns.boxplot(y=london[\"energy_max\"], x=london['LCLid'])\n",
    "\n",
    "# Rotate x-axis labels to 90 degrees\n",
    "plt.xticks(rotation=90)\n",
    "\n",
    "# Adding titles and labels\n",
    "plt.title('Boxplot of Energy Max by LCLid')\n",
    "plt.xlabel('LCLid')\n",
    "plt.ylabel('Energy Max')\n",
    "\n",
    "# Show the plot\n",
    "plt.show()\n",
    "\n",
    "\n"
   ]
  },
  {
   "cell_type": "code",
   "execution_count": null,
   "metadata": {},
   "outputs": [],
   "source": [
    "########### OPTIoNAL\n",
    "\n",
    "box_df = london[(london['LCLid'] == london.LCLid.unique()[2]) | (london['LCLid'] == london.LCLid.unique()[3])] \n",
    "plt.figure(figsize=(15,8))\n",
    "sns.boxplot( y= box_df[\"energy_mean\"], x=box_df['LCLid'],)\n",
    "plt.show()"
   ]
  },
  {
   "cell_type": "code",
   "execution_count": null,
   "metadata": {},
   "outputs": [],
   "source": [
    "import matplotlib.pyplot as plt\n",
    "\n",
    "df = london.loc[london['LCLid']=='MAC002510']['energy_max']\n",
    "\n",
    "mean = df.mean()\n",
    "st_dev = df.std()\n",
    "\n",
    "print(mean, st_dev)\n",
    "df.plot.hist(bins=20)\n",
    "plt.axvline(mean, color = 'black', label = 'Mean')\n",
    "plt.axvline(mean - st_dev, color = 'Red', label = '-1σ')\n",
    "plt.axvline(mean + st_dev, color = 'Violet', label = '+1σ')\n",
    "plt.axvline(mean - 2*st_dev, color = 'Red', label = '-2σ')\n",
    "plt.axvline(mean + 2*st_dev, color = 'Violet', label = '+2σ')\n",
    "plt.axvline(mean - 3*st_dev, color = 'Red', label = '-3σ')\n",
    "plt.axvline(mean + 3*st_dev, color = 'Violet', label = '+3σ')\n",
    "plt.xlabel('Energy')\n",
    "plt.legend()"
   ]
  },
  {
   "cell_type": "code",
   "execution_count": null,
   "metadata": {},
   "outputs": [],
   "source": [
    "# write your code here\n",
    "\n",
    "\n",
    "plt.figure(figsize=(12, 8))\n",
    "sns.boxplot(y=df)\n",
    "plt.axhline(mean, color='black', linestyle='--', label='Mean')"
   ]
  },
  {
   "cell_type": "markdown",
   "metadata": {},
   "source": [
    "\n",
    "<div style=\"background-color:#ccffcc; padding:10px; border-radius:5px;\">\n",
    "\n",
    "### <span style=\"color:blue\">Exercise 9</span>\n",
    "\n",
    "Create for MAC005331 two histograms in one Figure: one for energy_mean on week days and another for energy_mean on weekends.\n",
    "    </div>"
   ]
  },
  {
   "cell_type": "code",
   "execution_count": null,
   "metadata": {},
   "outputs": [],
   "source": [
    "# write your code here\n",
    "\n",
    "london_lcid = london[london[\"LCLid\"]=='MAC005331']\n",
    "london_lcid"
   ]
  },
  {
   "cell_type": "code",
   "execution_count": null,
   "metadata": {},
   "outputs": [],
   "source": [
    "print(london_lcid['day'].dtype)\n",
    "print(london_lcid['day'].unique())"
   ]
  },
  {
   "cell_type": "code",
   "execution_count": null,
   "metadata": {},
   "outputs": [],
   "source": [
    "\n",
    "# Convert the 'day' column to datetime\n",
    "# london_lcid.loc['day'] = pd.to_datetime(london_lcid['day'], format='%Y-%m-%d')\n",
    "london_lcid['day'] = london_lcid['day'].apply(pd.to_datetime)"
   ]
  },
  {
   "cell_type": "code",
   "execution_count": null,
   "metadata": {},
   "outputs": [],
   "source": [
    "london_lcid.dtypes"
   ]
  },
  {
   "cell_type": "code",
   "execution_count": null,
   "metadata": {},
   "outputs": [],
   "source": [
    "london_lcid.loc[:,'weekday'] = london_lcid.loc[:,'day'].dt.day_name()\n",
    "london_lcid"
   ]
  },
  {
   "cell_type": "code",
   "execution_count": null,
   "metadata": {
    "scrolled": true
   },
   "outputs": [],
   "source": [
    "london_lcid.loc[:,'is_weekend'] = london_lcid.loc[:,'weekday'].isin(['Saturday', 'Sunday'])\n",
    "london_lcid.head(14)"
   ]
  },
  {
   "cell_type": "code",
   "execution_count": null,
   "metadata": {},
   "outputs": [],
   "source": [
    "column = 'energy_mean'\n",
    "\n",
    "week_data = london_lcid[~london_lcid['is_weekend']][column]\n",
    "weekend_data = london_lcid[london_lcid['is_weekend']][column]\n"
   ]
  },
  {
   "cell_type": "code",
   "execution_count": null,
   "metadata": {
    "scrolled": false
   },
   "outputs": [],
   "source": [
    "\n",
    "\n",
    "plt.figure(figsize=(12,8))\n",
    "\n",
    "sns.histplot(data = week_data, color=colors_names[0], bins = 40, alpha=0.5, label='Week')\n",
    "sns.histplot(data = weekend_data, color=colors_names[1], bins = 40, alpha=0.5, label='Weekend')\n",
    "plt.legend( loc='best', bbox_to_anchor=((1,1)))\n",
    "plt.grid(axis='y', alpha=0.3)"
   ]
  },
  {
   "cell_type": "markdown",
   "metadata": {},
   "source": [
    "#### Density plot"
   ]
  },
  {
   "cell_type": "code",
   "execution_count": null,
   "metadata": {
    "scrolled": false
   },
   "outputs": [],
   "source": [
    "\n",
    "plt.figure(figsize=(10, 6))\n",
    "\n",
    "sns.kdeplot(data = week_data, color=colors_names[0],  label='Weekday', fill=True, alpha=0.1)\n",
    "sns.kdeplot(data = weekend_data, color=colors_names[1], label='Weekend', fill=True, alpha=0.1)\n",
    "plt.title('Density Plot: Weekdays vs Weekends')\n",
    "plt.legend()\n",
    "plt.show()\n"
   ]
  },
  {
   "cell_type": "markdown",
   "metadata": {},
   "source": [
    "## 3.4 Distribution shape\n",
    "\n",
    "These describe the pattern or form of how data is distributed. These concepts help visualize whether data is symmetric or has outliers.\n",
    "\n",
    "\n",
    "<img src=\"Figures/skew.jpg\" alt=\"Drawing\" style=\"width: 600px;\"/>\n",
    "\n",
    "\n",
    "Skewness tells you about asymmetry:\n",
    "\n",
    "* Negative → long left tail\n",
    "* Positive → long right tail\n",
    "\n",
    "Kurtosis tells you about tail thickness:\n",
    "\n",
    "* High kurtosis → more outliers\n",
    "* Low kurtosis → flatter, fewer extremes"
   ]
  },
  {
   "cell_type": "markdown",
   "metadata": {},
   "source": [
    "### Skewness\n",
    "\n",
    "- Definition: A measure of asymmetry of the data distribution.\n",
    "\n",
    "Interpretation:\n",
    "\n",
    "* Skewness ≈ 0: Symmetric (like normal distribution)\n",
    "* Skewness > 0: Right-skewed (tail on the right)\n",
    "* Skewness < 0: Left-skewed (tail on the left)\n",
    "\n",
    "Skewness helps us understand whether weekends or weekdays tend to have more extreme high or low values."
   ]
  },
  {
   "cell_type": "code",
   "execution_count": null,
   "metadata": {},
   "outputs": [],
   "source": [
    "from scipy.stats import skew\n",
    "\n",
    "\n",
    "week_mean = np.mean(week_data)\n",
    "weekend_mean = np.mean(weekend_data)\n",
    "week_skew = skew(week_data)\n",
    "weekend_skew = skew(weekend_data)\n",
    "\n",
    "\n",
    "print(f\"Weekdays -> Mean: {week_mean:.2f}, Skewness: {week_skew:.2f}\")\n",
    "print(f\"Weekends -> Mean: {weekend_mean:.2f}, Skewness: {weekend_skew:.2f}\")"
   ]
  },
  {
   "cell_type": "markdown",
   "metadata": {},
   "source": [
    "### Kurtosis\n",
    "\n",
    "- Definition: A measure of the tailedness or peakedness of the distribution.\n",
    "\n",
    "Interpretation:\n",
    "\n",
    "* Kurtosis ≈ 3 (Excess = 0): Normal (mesokurtic)\n",
    "* Kurtosis > 3 (Excess > 0): Heavy tails / peaked (leptokurtic)\n",
    "* Kurtosis < 3 (Excess < 0): Light tails / flat (platykurtic)\n",
    "\n",
    "High kurtosis means more frequent extreme values (outliers).\n",
    "\n",
    "\n",
    "**Excess kurtosis** tells you how much the kurtosis of your data differs from that of a normal distribution, since a normal distribution has a kurtosis of 3. This adjustment makes it easier to interpret the shape of your distribution."
   ]
  },
  {
   "cell_type": "code",
   "execution_count": null,
   "metadata": {
    "scrolled": true
   },
   "outputs": [],
   "source": [
    "from scipy.stats import kurtosis\n",
    "\n",
    "week_kurt = kurtosis(week_data, fisher=False)  # Use fisher=False to get kurtosis, not excess kurtosis\n",
    "weekend_kurt = kurtosis(weekend_data, fisher=False)\n",
    "\n",
    "print(f\"Weekdays -> Kurtosis: {week_kurt:.2f}\")\n",
    "print(f\"Weekends -> Kurtosis: {weekend_kurt:.2f}\")"
   ]
  },
  {
   "cell_type": "code",
   "execution_count": null,
   "metadata": {},
   "outputs": [],
   "source": []
  },
  {
   "cell_type": "code",
   "execution_count": null,
   "metadata": {},
   "outputs": [],
   "source": []
  },
  {
   "cell_type": "code",
   "execution_count": null,
   "metadata": {},
   "outputs": [],
   "source": []
  },
  {
   "cell_type": "code",
   "execution_count": null,
   "metadata": {},
   "outputs": [],
   "source": []
  },
  {
   "cell_type": "code",
   "execution_count": null,
   "metadata": {},
   "outputs": [],
   "source": []
  },
  {
   "cell_type": "code",
   "execution_count": null,
   "metadata": {},
   "outputs": [],
   "source": []
  }
 ],
 "metadata": {
  "kernelspec": {
   "display_name": "Python 3 (ipykernel)",
   "language": "python",
   "name": "python3"
  },
  "language_info": {
   "codemirror_mode": {
    "name": "ipython",
    "version": 3
   },
   "file_extension": ".py",
   "mimetype": "text/x-python",
   "name": "python",
   "nbconvert_exporter": "python",
   "pygments_lexer": "ipython3",
   "version": "3.11.5"
  },
  "widgets": {
   "state": {},
   "version": "1.1.1"
  }
 },
 "nbformat": 4,
 "nbformat_minor": 1
}
